{
 "cells": [
  {
   "cell_type": "markdown",
   "metadata": {},
   "source": [
    "# **Project-2**\n",
    "\n",
    "In this project, you will analyze and predict the weekly sales for a retail store. The dataset includes weekly sales data for *45* store locations over a *143-week* period. Create a machine learning model (**regression**) to predict weekly sales values using the train and test datasets provided.\n",
    "\n",
    "**Dataset Details:**\n",
    "\n",
    "*Store*: Store number\n",
    "\n",
    "*Week*: 1 through 143\n",
    "\n",
    "*Temperature*: Weekly outside temperature\n",
    "\n",
    "*Holiday*: Yes for holiday week, No for non-holiday week\n",
    "\n",
    "*CPI*: The Consumer Price Index\n",
    "\n",
    "*Fuel Price*: Price per gallon\n",
    "\n",
    "*Unemployment*: Unemployment rate\n",
    "\n",
    "*WeeklySales*: Total sales amount\n",
    "\n",
    "\n",
    "**Datasets Locations and Names:**\n",
    "Canvas -> Modules -> Week 5 -> Datasets -> \"trainSales.csv\" and \"testSales.csv\".\n",
    "\n",
    "Download the .ipynb file and save as FirstName_LastName_Project2.ipynb. Please submit (upload) your source code to Canvas."
   ]
  },
  {
   "cell_type": "code",
   "execution_count": 43,
   "metadata": {},
   "outputs": [],
   "source": [
    "import matplotlib.pyplot as plt\n",
    "import numpy as np\n",
    "import pandas as pd\n",
    "\n",
    "salesTrain = pd.read_csv(\"trainSales.csv\")\n",
    "#salesTest = pd.read_csv(\"testSales.csv\")"
   ]
  },
  {
   "cell_type": "code",
   "execution_count": 44,
   "metadata": {},
   "outputs": [],
   "source": [
    "X = salesTrain.drop(columns=['WeeklySales'])\n",
    "y = salesTrain['WeeklySales']\n",
    "\n",
    "cat_feat = ['Store', 'Holiday']\n",
    "num_feat = ['Week', 'Temperature', 'CPI', 'FuelPrice', 'Unemployment']\n"
   ]
  },
  {
   "cell_type": "code",
   "execution_count": 45,
   "metadata": {},
   "outputs": [],
   "source": [
    "from sklearn.pipeline import Pipeline\n",
    "from sklearn.preprocessing import StandardScaler, OneHotEncoder\n",
    "from sklearn.compose import ColumnTransformer\n",
    "\n",
    "cat_trans = Pipeline([\n",
    "    ('onehot', OneHotEncoder(handle_unknown='ignore'))\n",
    "                        ])\n",
    "\n",
    "num_trans = Pipeline([\n",
    "    ('scaler', StandardScaler())\n",
    "])\n",
    "\n",
    "prepross = ColumnTransformer(\n",
    "    transformers=[\n",
    "        ('num', num_trans, num_feat),\n",
    "        ('cat', cat_trans, cat_feat)\n",
    "    ]\n",
    ")"
   ]
  },
  {
   "cell_type": "code",
   "execution_count": 46,
   "metadata": {},
   "outputs": [],
   "source": [
    "from sklearn.linear_model import LinearRegression\n",
    "\n",
    "pipeline = Pipeline([\n",
    "    ('preprocessor', prepross),\n",
    "    ('model', LinearRegression())\n",
    "])"
   ]
  },
  {
   "cell_type": "code",
   "execution_count": 47,
   "metadata": {},
   "outputs": [
    {
     "name": "stdout",
     "output_type": "stream",
     "text": [
      "28999361826.43181\n"
     ]
    }
   ],
   "source": [
    "from sklearn.model_selection import train_test_split\n",
    "from sklearn.metrics import mean_squared_error\n",
    "\n",
    "X_train, X_test, y_train, y_test = train_test_split(X, y, test_size=0.2, random_state=42)\n",
    "\n",
    "pipeline.fit(X_train,y_train)\n",
    "\n",
    "y_pred = pipeline.predict(X_test)\n",
    "\n",
    "mse = mean_squared_error(y_test, y_pred) \n",
    "\n",
    "print(mse)"
   ]
  }
 ],
 "metadata": {
  "kernelspec": {
   "display_name": "Python 3",
   "language": "python",
   "name": "python3"
  },
  "language_info": {
   "codemirror_mode": {
    "name": "ipython",
    "version": 3
   },
   "file_extension": ".py",
   "mimetype": "text/x-python",
   "name": "python",
   "nbconvert_exporter": "python",
   "pygments_lexer": "ipython3",
   "version": "3.11.5"
  },
  "orig_nbformat": 4
 },
 "nbformat": 4,
 "nbformat_minor": 2
}
