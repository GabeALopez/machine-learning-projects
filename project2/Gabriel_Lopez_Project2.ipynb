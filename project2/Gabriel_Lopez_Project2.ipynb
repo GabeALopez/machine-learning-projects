{
 "cells": [
  {
   "cell_type": "markdown",
   "metadata": {},
   "source": [
    "# **Project-2**\n",
    "\n",
    "In this project, you will analyze and predict the weekly sales for a retail store. The dataset includes weekly sales data for *45* store locations over a *143-week* period. Create a machine learning model (**regression**) to predict weekly sales values using the train and test datasets provided.\n",
    "\n",
    "**Dataset Details:**\n",
    "\n",
    "*Store*: Store number\n",
    "\n",
    "*Week*: 1 through 143\n",
    "\n",
    "*Temperature*: Weekly outside temperature\n",
    "\n",
    "*Holiday*: Yes for holiday week, No for non-holiday week\n",
    "\n",
    "*CPI*: The Consumer Price Index\n",
    "\n",
    "*Fuel Price*: Price per gallon\n",
    "\n",
    "*Unemployment*: Unemployment rate\n",
    "\n",
    "*WeeklySales*: Total sales amount\n",
    "\n",
    "\n",
    "**Datasets Locations and Names:**\n",
    "Canvas -> Modules -> Week 5 -> Datasets -> \"trainSales.csv\" and \"testSales.csv\".\n",
    "\n",
    "Download the .ipynb file and save as FirstName_LastName_Project2.ipynb. Please submit (upload) your source code to Canvas."
   ]
  },
  {
   "cell_type": "code",
   "execution_count": 1,
   "metadata": {},
   "outputs": [],
   "source": [
    "import matplotlib.pyplot as plt\n",
    "import numpy as np\n",
    "import pandas as pd\n",
    "\n",
    "sales = pd.read_csv(\"trainSales.csv\")"
   ]
  },
  {
   "cell_type": "code",
   "execution_count": null,
   "metadata": {},
   "outputs": [],
   "source": [
    "from sklearn.model_selection import StratifiedShuffleSplit\n",
    "\n",
    "split = StratifiedShuffleSplit(n_splits=1, test_size=0.2, random_state=50)\n",
    "\n",
    "for train_index, test_index in split.split(sales, sales[\"\"]):\n",
    "    strat_train_set = sales.iloc[train_index]\n",
    "    strat_test_set = sales.iloc[test_index]"
   ]
  },
  {
   "cell_type": "code",
   "execution_count": null,
   "metadata": {},
   "outputs": [],
   "source": []
  },
  {
   "cell_type": "code",
   "execution_count": null,
   "metadata": {},
   "outputs": [],
   "source": [
    "from sklearn.pipeline import Pipeline\n",
    "from sklearn.preprocessing import StandardScaler, MinMaxScaler, OneHotEncoder\n",
    "from sklearn.impute import SimpleImputer\n",
    "\n",
    "imputer = SimpleImputer(strategy=\"medium\")\n",
    "\n",
    "numeric_std_pipline = Pipeline([('imputer', SimpleImputer(strategy='median')),\n",
    "                                  ('stdscaler', StandardScaler())])\n",
    "\n",
    "numeric_minmax_pipeline = Pipeline([('imputer', SimpleImputer(strategy='median')),\n",
    "                                    ('minmaxscaler', MinMaxScaler())])\n",
    "\n",
    "cat_pipeline = Pipeline([('onehot', OneHotEncoder())])"
   ]
  },
  {
   "cell_type": "code",
   "execution_count": null,
   "metadata": {},
   "outputs": [],
   "source": [
    "from sklearn.compose import ColumnTransformer\n",
    "from sklearn.linear_model import LinearRegression\n",
    "from sklearn.ensemble import RandomForestRegressor as RFR\n",
    "\n",
    "full_transformer = ColumnTransformer([('numeric_stdpreprocessing', numeric_std_pipeline, num_std_attribs),\n",
    "                                ('numeric_minmaxpreprocessing', numeric_minmax_pipeline, num_maxmin_attribs),\n",
    "                                 ('cat_preprocessing', cat_pipeline, cat_attribs)\n",
    "                                ])\n",
    "\n",
    "p1_full_pipeline = Pipeline([('all_column_transformation', full_transformer),\n",
    "                        ('linear_regression', LinearRegression())\n",
    "                      ])\n",
    "\n",
    "\n",
    "\n",
    "p2_full_pipeline = Pipeline([('all_column_transformation', full_transformer),\n",
    "               (\"RFR_model\", RFR())\n",
    "               ])"
   ]
  },
  {
   "cell_type": "code",
   "execution_count": null,
   "metadata": {},
   "outputs": [],
   "source": [
    "from sklearn.metrics import mean_absolute_error\n",
    "from sklearn.metrics import r2_score\n",
    "\n",
    "def fit_and_print(p, train_set, train_labels, test_set, test_labels):\n",
    "  p.fit(train_set, train_labels)\n",
    "  train_preds = p.predict(train_set)\n",
    "  test_preds = p.predict(test_set)\n",
    "  print(\"Training Error: \" + str(mean_absolute_error(train_preds, train_labels)))\n",
    "  print(\"Test Error: \" + str(mean_absolute_error(test_preds, test_labels)))\n",
    "  print(\"R2 score: \" + str(r2_score(test_preds, test_labels)))"
   ]
  },
  {
   "cell_type": "code",
   "execution_count": null,
   "metadata": {},
   "outputs": [],
   "source": [
    "fit_and_print(p1_full_pipeline, train, train_labels, test, test_labels)"
   ]
  },
  {
   "cell_type": "code",
   "execution_count": null,
   "metadata": {},
   "outputs": [],
   "source": [
    "fit_and_print(p2_full_pipeline, train, train_labels, test, test_labels)"
   ]
  }
 ],
 "metadata": {
  "kernelspec": {
   "display_name": "Python 3",
   "language": "python",
   "name": "python3"
  },
  "language_info": {
   "codemirror_mode": {
    "name": "ipython",
    "version": 3
   },
   "file_extension": ".py",
   "mimetype": "text/x-python",
   "name": "python",
   "nbconvert_exporter": "python",
   "pygments_lexer": "ipython3",
   "version": "3.11.5"
  },
  "orig_nbformat": 4
 },
 "nbformat": 4,
 "nbformat_minor": 2
}
