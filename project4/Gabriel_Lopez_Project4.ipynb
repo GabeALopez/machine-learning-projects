{
 "cells": [
  {
   "cell_type": "markdown",
   "metadata": {},
   "source": [
    "# **Project-4**\n",
    "\n",
    "***Project Title:*** Customer Segmentation\n",
    "\n",
    "***Project Description:*** In this project, you will build a machine learning model to segment customers based on their demographics and spending behavior. The data set includes information on customers' age, gender, annual income, and spending score (a metric assigned by the mall based on how much customers spend and how often they visit).\n",
    "\n",
    "***Dataset Details:*** The data set contains 200 records of customers.\n",
    "\n",
    "***Datasets Location:*** Canvas -> Modules -> Week 12 -> Datasets -> **\"customers.csv\"**.\n",
    "\n",
    "***Tasks:***\n",
    "\n",
    "1) *Data Exploration and Preprocessing:* You will explore the data set, handle missing values, perform feature engineering, and preprocess the data to get it ready for model building.\n",
    "\n",
    "2) *Model Building:* You will train and evaluate several unsupervised clustering models on the preprocessed data set, including k-means clustering and DBSCAN.\n",
    "\n",
    "3) *Model Evaluation:* You will evaluate the clustering results using silhouette and inertia scores. You will also analyze the resulting customer segments and interpret their characteristics.\n",
    "\n",
    "4) *Deployment:* Once you have identified the customer segments, you can use them to personalize marketing campaigns, improve customer retention, and optimize product recommendations.\n",
    "\n",
    "This project will give you hands-on experience with unsupervised clustering, data preprocessing, and model evaluation. It also has real-world applications in marketing and e-commerce, where customer segmentation can help businesses tailor their offerings to different customer groups."
   ]
  },
  {
   "cell_type": "code",
   "execution_count": 9,
   "metadata": {},
   "outputs": [
    {
     "name": "stdout",
     "output_type": "stream",
     "text": [
      "There are no missing values in the DataFrame\n"
     ]
    }
   ],
   "source": [
    "import numpy as np\n",
    "import matplotlib.pyplot as plt\n",
    "import pandas as pd\n",
    "\n",
    "customers = pd.read_csv(\"customers.csv\")\n",
    "\n",
    "missingValues = customers.isna()\n",
    "missingFlag = True\n",
    "\n",
    "for col in missingValues.columns:\n",
    "    for index, valueInIndex in missingValues[col].items():\n",
    "        if valueInIndex:\n",
    "            print(f\"Missing value at index {index} in column {col}\")\n",
    "            missingFlag = False\n",
    "        \n",
    "\n",
    "if missingFlag:\n",
    "    print(\"There are no missing values in the DataFrame\")\n",
    "\n"
   ]
  },
  {
   "cell_type": "code",
   "execution_count": 21,
   "metadata": {},
   "outputs": [],
   "source": [
    "from sklearn.model_selection import train_test_split\n",
    "from sklearn.model_selection import StratifiedShuffleSplit\n",
    "from sklearn.model_selection import StratifiedKFold\n",
    "\n",
    "#sss = StratifiedShuffleSplit(n_splits=5, test_size=0.3, random_state=42)\n",
    "#skf = StratifiedKFold(n_splits=5, shuffle=True, random_state=42)\n",
    "\n",
    "X = customers.drop(columns=['Spending Score (1-100)'])\n",
    "y = customers['Spending Score (1-100)']\n",
    "\n",
    "X_train, X_test, y_train, y_test = train_test_split(X, y, test_size=0.2, random_state=42)\n",
    "\n",
    "\"\"\"\n",
    "for train_index, test_index in skf.split(X, y):\n",
    "    X_train, X_test = X.iloc[train_index], X.iloc[test_index]\n",
    "    y_train, y_test = y.iloc[train_index], y.iloc[test_index] \n",
    "\n",
    "\"\"\"\n",
    "num_feat = ['CustomerID', 'Age', 'Annual Income (k$)']\n",
    "cat_feat = ['Gender']"
   ]
  },
  {
   "cell_type": "code",
   "execution_count": 22,
   "metadata": {},
   "outputs": [
    {
     "name": "stdout",
     "output_type": "stream",
     "text": [
      "     CustomerID  Gender  Age  Annual Income (k$)\n",
      "79           80  Female   49                  54\n",
      "197         198    Male   32                 126\n",
      "38           39  Female   36                  37\n",
      "24           25  Female   54                  28\n",
      "122         123  Female   40                  69\n",
      "..          ...     ...  ...                 ...\n",
      "106         107  Female   66                  63\n",
      "14           15    Male   37                  20\n",
      "92           93    Male   48                  60\n",
      "179         180    Male   35                  93\n",
      "102         103    Male   67                  62\n",
      "\n",
      "[160 rows x 4 columns]\n"
     ]
    }
   ],
   "source": [
    "print(X_train)"
   ]
  },
  {
   "cell_type": "code",
   "execution_count": 23,
   "metadata": {},
   "outputs": [
    {
     "name": "stderr",
     "output_type": "stream",
     "text": [
      "C:\\Users\\super\\AppData\\Local\\Packages\\PythonSoftwareFoundation.Python.3.11_qbz5n2kfra8p0\\LocalCache\\local-packages\\Python311\\site-packages\\sklearn\\cluster\\_kmeans.py:1412: FutureWarning: The default value of `n_init` will change from 10 to 'auto' in 1.4. Set the value of `n_init` explicitly to suppress the warning\n",
      "  super()._check_params_vs_input(X, default_n_init=10)\n"
     ]
    }
   ],
   "source": [
    "from sklearn.metrics import silhouette_score\n",
    "from sklearn.cluster import KMeans\n",
    "from sklearn.pipeline import Pipeline\n",
    "from sklearn.preprocessing import OneHotEncoder\n",
    "from sklearn.compose import ColumnTransformer\n",
    "\n",
    "# Create a ColumnTransformer\n",
    "preprocess = ColumnTransformer([\n",
    "    ('num_feat', 'passthrough', num_feat),\n",
    "    ('cat_feat', OneHotEncoder(), cat_feat)\n",
    "])\n",
    "\n",
    "# Create a pipeline\n",
    "pipeline = Pipeline([\n",
    "    ('preprocessor', preprocess),\n",
    "    ('model', KMeans(n_clusters=5, random_state=42))\n",
    "])\n",
    "\n",
    "# Fit the pipeline and get cluster labels\n",
    "y_pred = pipeline.fit_predict(X_train)\n",
    "\n",
    "# Get the inertia (within-cluster sum of squares)\n",
    "#inertia = pipeline.named_steps['model'].inertia_\n",
    "#print(f\"Inertia: {inertia}\")\n",
    "\n",
    "# Calculate silhouette score\n",
    "#sil_score = silhouette_score(X, y_pred)\n",
    "#print(f\"Silhouette Score: {sil_score}\")\n"
   ]
  },
  {
   "cell_type": "code",
   "execution_count": 31,
   "metadata": {},
   "outputs": [
    {
     "name": "stdout",
     "output_type": "stream",
     "text": [
      "Inertia: 58092.85693679771\n",
      "Silhouette Score: 0.33334214313347543\n"
     ]
    },
    {
     "name": "stderr",
     "output_type": "stream",
     "text": [
      "C:\\Users\\super\\AppData\\Local\\Packages\\PythonSoftwareFoundation.Python.3.11_qbz5n2kfra8p0\\LocalCache\\local-packages\\Python311\\site-packages\\sklearn\\cluster\\_kmeans.py:1412: FutureWarning: The default value of `n_init` will change from 10 to 'auto' in 1.4. Set the value of `n_init` explicitly to suppress the warning\n",
      "  super()._check_params_vs_input(X, default_n_init=10)\n"
     ]
    }
   ],
   "source": [
    "from sklearn.metrics import silhouette_score\n",
    "from sklearn.cluster import KMeans\n",
    "from sklearn.pipeline import Pipeline\n",
    "from sklearn.preprocessing import OneHotEncoder\n",
    "from sklearn.compose import ColumnTransformer\n",
    "\n",
    "preprocess = ColumnTransformer([\n",
    "   ('num_feat', 'passthrough' ,num_feat),\n",
    "   ('cat_feat', OneHotEncoder(), cat_feat) \n",
    "])\n",
    "\n",
    "pipeline = Pipeline([\n",
    "    ('preprocessor', preprocess),\n",
    "    ('model', KMeans(n_clusters=5, random_state=42))\n",
    "])\n",
    "\n",
    "pipeline.fit(X_train, y_train)\n",
    "y_pred = pipeline.predict(X_test)\n",
    "\n",
    "inertia = pipeline.named_steps['model'].inertia_\n",
    "\n",
    "sil_score = silhouette_score(preprocess.transform(X_test), y_pred)\n",
    "\n",
    "print(\"Inertia: \" + str(inertia) + \"\\n\" + \"Silhouette Score: \" + str(sil_score))"
   ]
  }
 ],
 "metadata": {
  "kernelspec": {
   "display_name": "Python 3",
   "language": "python",
   "name": "python3"
  },
  "language_info": {
   "codemirror_mode": {
    "name": "ipython",
    "version": 3
   },
   "file_extension": ".py",
   "mimetype": "text/x-python",
   "name": "python",
   "nbconvert_exporter": "python",
   "pygments_lexer": "ipython3",
   "version": "3.11.6"
  }
 },
 "nbformat": 4,
 "nbformat_minor": 2
}
