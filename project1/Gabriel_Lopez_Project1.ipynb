{
 "cells": [
  {
   "cell_type": "code",
   "execution_count": 1,
   "metadata": {},
   "outputs": [
    {
     "name": "stdout",
     "output_type": "stream",
     "text": [
      "    Student_ID     Sex  Age  Study_Hours  Previous_Scores  Final_Score\n",
      "0            1    Male   17            2               94           90\n",
      "1            2  Female   17            4               75           80\n",
      "2            3    Male   19            9              100          100\n",
      "3            4    Male   17            7               95          100\n",
      "4            5    Male   17            9               92           95\n",
      "..         ...     ...  ...          ...              ...          ...\n",
      "95          96  Female   16            4               65           63\n",
      "96          97  Female   18           10               74           80\n",
      "97          98  Female   18            3               96           98\n",
      "98          99  Female   16            3               92           94\n",
      "99         100    Male   20            3               67           65\n",
      "\n",
      "[100 rows x 6 columns]\n"
     ]
    }
   ],
   "source": [
    "import numpy as py\n",
    "import pandas as pd\n",
    "import matplotlib as mpl\n",
    "\n",
    "data = pd.read_csv(\"students.csv\")\n",
    "\n",
    "print(data)"
   ]
  }
 ],
 "metadata": {
  "kernelspec": {
   "display_name": "Python 3",
   "language": "python",
   "name": "python3"
  },
  "language_info": {
   "codemirror_mode": {
    "name": "ipython",
    "version": 3
   },
   "file_extension": ".py",
   "mimetype": "text/x-python",
   "name": "python",
   "nbconvert_exporter": "python",
   "pygments_lexer": "ipython3",
   "version": "3.10.2"
  },
  "orig_nbformat": 4
 },
 "nbformat": 4,
 "nbformat_minor": 2
}
