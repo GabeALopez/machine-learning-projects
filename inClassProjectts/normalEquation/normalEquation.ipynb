{
 "cells": [
  {
   "cell_type": "code",
   "execution_count": 2,
   "metadata": {},
   "outputs": [
    {
     "data": {
      "text/plain": [
       "array([[3.87351486],\n",
       "       [3.07733702]])"
      ]
     },
     "execution_count": 2,
     "metadata": {},
     "output_type": "execute_result"
    }
   ],
   "source": [
    "import numpy as np\n",
    "\n",
    "X = 2 * np.random.rand(100,1)\n",
    "y = 4+3*X+np.random.randn(100,1)\n",
    "\n",
    "X_b = np.c_[np.ones((100,1)), X]\n",
    "\n",
    "theta_best = np.linalg.inv(X_b.T.dot(X_b)).dot(X_b.T).dot(y)\n",
    "\n",
    "theta_best"
   ]
  },
  {
   "cell_type": "code",
   "execution_count": 3,
   "metadata": {},
   "outputs": [
    {
     "data": {
      "text/plain": [
       "(array([3.87351486]), array([[3.07733702]]))"
      ]
     },
     "execution_count": 3,
     "metadata": {},
     "output_type": "execute_result"
    }
   ],
   "source": [
    "#Linear Regression\n",
    "from sklearn.linear_model import LinearRegression\n",
    "\n",
    "lin_reg = LinearRegression()\n",
    "\n",
    "lin_reg.fit(X,y)\n",
    "\n",
    "lin_reg.intercept_, lin_reg.coef_"
   ]
  },
  {
   "cell_type": "code",
   "execution_count": 4,
   "metadata": {},
   "outputs": [],
   "source": [
    "#Batch Gradient Test\n",
    "\n",
    "eta = 0.1\n",
    "n_iterations = 50\n",
    "\n",
    "m = 100\n",
    "\n",
    "theta = np.random.randn(2,1)\n",
    "\n",
    "for iteration in range(n_iterations):\n",
    "    gradients = 2/m * X_b.T.dot(X_b.dot(theta) - y) #Equation found on slides\n",
    "    theta = theta - eta * gradients #update theta with the new values -- Like moving line on a graph"
   ]
  },
  {
   "cell_type": "code",
   "execution_count": 5,
   "metadata": {},
   "outputs": [
    {
     "ename": "TypeError",
     "evalue": "Field elements must be 2- or 3-tuples, got '2'",
     "output_type": "error",
     "traceback": [
      "\u001b[1;31m---------------------------------------------------------------------------\u001b[0m",
      "\u001b[1;31mTypeError\u001b[0m                                 Traceback (most recent call last)",
      "\u001b[1;32mc:\\Users\\super\\Documents\\GitHub\\machine-learning-projects\\inClassProjectts\\normalEquation\\normalEquation.ipynb Cell 4\u001b[0m line \u001b[0;36m1\n\u001b[1;32m----> <a href='vscode-notebook-cell:/c%3A/Users/super/Documents/GitHub/machine-learning-projects/inClassProjectts/normalEquation/normalEquation.ipynb#W4sZmlsZQ%3D%3D?line=0'>1</a>\u001b[0m X_new \u001b[39m=\u001b[39m np\u001b[39m.\u001b[39;49marray([\u001b[39m0\u001b[39;49m], [\u001b[39m2\u001b[39;49m])\n\u001b[0;32m      <a href='vscode-notebook-cell:/c%3A/Users/super/Documents/GitHub/machine-learning-projects/inClassProjectts/normalEquation/normalEquation.ipynb#W4sZmlsZQ%3D%3D?line=1'>2</a>\u001b[0m X_new_b \u001b[39m=\u001b[39m np\u001b[39m.\u001b[39mc_[np\u001b[39m.\u001b[39mones((\u001b[39m2\u001b[39m,\u001b[39m1\u001b[39m)), X_new]\n\u001b[0;32m      <a href='vscode-notebook-cell:/c%3A/Users/super/Documents/GitHub/machine-learning-projects/inClassProjectts/normalEquation/normalEquation.ipynb#W4sZmlsZQ%3D%3D?line=3'>4</a>\u001b[0m X_new_b\u001b[39m.\u001b[39mdot(theta)\n",
      "\u001b[1;31mTypeError\u001b[0m: Field elements must be 2- or 3-tuples, got '2'"
     ]
    }
   ],
   "source": [
    "X_new = np.array([0], [2])\n",
    "X_new_b = np.c_[np.ones((2,1)), X_new]\n",
    "\n",
    "X_new_b.dot(theta)"
   ]
  }
 ],
 "metadata": {
  "kernelspec": {
   "display_name": "Python 3",
   "language": "python",
   "name": "python3"
  },
  "language_info": {
   "codemirror_mode": {
    "name": "ipython",
    "version": 3
   },
   "file_extension": ".py",
   "mimetype": "text/x-python",
   "name": "python",
   "nbconvert_exporter": "python",
   "pygments_lexer": "ipython3",
   "version": "3.11.5"
  },
  "orig_nbformat": 4
 },
 "nbformat": 4,
 "nbformat_minor": 2
}
