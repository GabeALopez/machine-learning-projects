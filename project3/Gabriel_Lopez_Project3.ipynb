{
 "cells": [
  {
   "cell_type": "markdown",
   "metadata": {},
   "source": [
    "# **Project-3**\n",
    "\n",
    "***Project Title:*** Predicting Diabetes\n",
    "\n",
    "***Project Description:*** In this project, you will build a machine learning model to predict whether a person has diabetes or not based on their health metrics such as BMI, blood pressure, glucose levels, etc. The data set includes information on individuals' health metrics, including whether they have diabetes or not.\n",
    "\n",
    "***Dataset Details:*** The data set contains over 750 records of female patients aged 21 years or older. The dataset has eight features (e.g., age, BMI, blood pressure, insulin level, etc.) and one target variable that indicates whether the person has diabetes or not.\n",
    "\n",
    "Pregnancies: Number of pregnancies\n",
    "\n",
    "Glucose: Glucose level in blood\n",
    "\n",
    "BloodPressure: Blood pressure\n",
    "\n",
    "SkinThickness: Thickness of the skin\n",
    "\n",
    "Insulin: Insulin level in blood\n",
    "\n",
    "BMI: Body Mass Index\n",
    "\n",
    "DiabetesPedigreeFunction: Inheritance of diatbetes condition through generations\n",
    "\n",
    "Age: Age\n",
    "\n",
    "Outcome: 1 is Diabetic, 0 is non-Diabetic\n",
    "\n",
    "***Datasets Location:*** Canvas -> Modules -> Week 9 -> Datasets -> **\"patients.csv\"**.\n",
    "\n",
    "***Tasks:***\n",
    "\n",
    "1) *Data Exploration and Preprocessing:* You will explore the data set, handle missing values, perform feature engineering, and preprocess the data to get it ready for model building.\n",
    "\n",
    "2) *Model Building:* You will train and evaluate several machine learning models on the preprocessed data set.\n",
    "\n",
    "3) *Model Evaluation:* You will evaluate the models' performance using several metrics such as accuracy, precision, recall, specificity, F1-score, and ROC curve analysis. You will also compare the models' performance and select the best-performing one.\n",
    "\n",
    "4) *Deployment:* Once you have selected the best-performing model, you will deploy it and make predictions on new, unseen data.\n",
    "\n",
    "This project will give you hands-on experience with supervised classification, data preprocessing, and model evaluation. It also has real-world applications in healthcare, where early detection of diabetes can help in the timely management of the disease."
   ]
  },
  {
   "cell_type": "markdown",
   "metadata": {},
   "source": [
    "Check all metrics:\n",
    "\n",
    "- F1 score\n",
    "- ROC curve\n",
    "- Precision score\n",
    "- Accuracy score\n"
   ]
  },
  {
   "cell_type": "code",
   "execution_count": 13,
   "metadata": {},
   "outputs": [
    {
     "name": "stdout",
     "output_type": "stream",
     "text": [
      "There are no missing values in the DataFrame\n"
     ]
    }
   ],
   "source": [
    "import matplotlib.pyplot as plt\n",
    "import numpy as np\n",
    "import pandas as pd\n",
    "\n",
    "patients = pd.read_csv(\"patients.csv\")\n",
    "\n",
    "\"\"\"NEED TO SITE THIS\"\"\"\n",
    "\n",
    "\n",
    "# patients.describe()\n",
    "missingValues = patients.isna()\n",
    "missingFlag = True\n",
    "\n",
    "for col in missingValues.columns:\n",
    "    for index, valueInIndex in missingValues[col].items():\n",
    "        if valueInIndex:\n",
    "            print(f\"Missing value at index {index} in column {col}\")\n",
    "            missingFlag = False\n",
    "        \n",
    "\n",
    "if missingFlag:\n",
    "    print(\"There are no missing values in the DataFrame\")"
   ]
  },
  {
   "cell_type": "code",
   "execution_count": 14,
   "metadata": {},
   "outputs": [],
   "source": [
    "from sklearn.model_selection import train_test_split\n",
    "\n",
    "X = patients.drop(columns=['Outcome'])\n",
    "y = patients['Outcome']\n",
    "\n",
    "X_train, X_test, y_train, y_test = train_test_split(X, y, test_size=0.2, random_state=42)\n",
    "\n",
    "num_feat = ['Pregnancies', 'Glucose', 'BloodPressure', 'SkinThickness', 'Insulin', 'BMI', \n",
    "            'DiabetesPedigreeFunction', 'Age', 'Outcome']"
   ]
  },
  {
   "cell_type": "code",
   "execution_count": 15,
   "metadata": {},
   "outputs": [
    {
     "name": "stdout",
     "output_type": "stream",
     "text": [
      "Logistic Regression  0.8133333333333334\n"
     ]
    }
   ],
   "source": [
    "#A imputer was not used here due to the data set not having any null values\n",
    "from sklearn.linear_model import LogisticRegression\n",
    "from sklearn.pipeline import Pipeline\n",
    "from sklearn.preprocessing import StandardScaler\n",
    "from sklearn.metrics import accuracy_score\n",
    "\n",
    "log_clf = LogisticRegression(random_state=42, solver='lbfgs')\n",
    "\n",
    "#Site this\n",
    "preprocess = Pipeline([\n",
    "    ('scaler', StandardScaler()),\n",
    "    ('classifier', log_clf)\n",
    "])\n",
    "\n",
    "preprocess.fit(X_train, y_train)\n",
    "predictions = preprocess.predict(X_test)\n",
    "print(\"Logistic Regression \", accuracy_score(predictions, y_test))"
   ]
  }
 ],
 "metadata": {
  "kernelspec": {
   "display_name": "Python 3",
   "language": "python",
   "name": "python3"
  },
  "language_info": {
   "codemirror_mode": {
    "name": "ipython",
    "version": 3
   },
   "file_extension": ".py",
   "mimetype": "text/x-python",
   "name": "python",
   "nbconvert_exporter": "python",
   "pygments_lexer": "ipython3",
   "version": "3.11.6"
  }
 },
 "nbformat": 4,
 "nbformat_minor": 2
}
